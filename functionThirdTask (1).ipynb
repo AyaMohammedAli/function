{
 "cells": [
  {
   "cell_type": "markdown",
   "id": "bcf93b58",
   "metadata": {},
   "source": [
    "# Functions in python\n",
    "A function is some of related statements that performs a specific task.\n",
    "Functions help break our program into smaller and modular chunks. As our program grows larger and larger, functions make it more organized and manageable to be able to add and remove from it.\n",
    "Furthermore, it avoids repetition and makes the code reusable. it help us to design or code and make it follow The  principle of SOLID  so not repeat yourself so you make a function if you need it more than one time or in many places just call it and it will do what you need without repeating code.\n",
    "\n",
    "## Steps To create function:\n",
    "\n",
    "1 : Function created by keyword called **def**\n",
    "\n",
    "2 : Add function Name which should be lower case\n",
    "\n",
    "3 : Add **()** inside them we will add parameters \n",
    "\n",
    "#### Function should be called to be done \n",
    "#### Function called by its name  followed by parenthesis\n",
    "\n",
    "Let's define small function "
   ]
  },
  {
   "cell_type": "code",
   "execution_count": 5,
   "id": "c02c04f8",
   "metadata": {
    "scrolled": true
   },
   "outputs": [
    {
     "name": "stdout",
     "output_type": "stream",
     "text": [
      "Enter Your First Number 5\n",
      "Enter Your Secend Number 4\n",
      "The sum of 5 and 4 is 9\n"
     ]
    }
   ],
   "source": [
    "#function to add two numbers and return their sum\n",
    "def add(firstParr, secdParr):\n",
    "    result = firstParr + secdParr\n",
    "    print(\"The sum of \" + str(firstParr) +\" and \"+str(secdParr) + \" is \"+ str(result) )\n",
    "#Taking input from user  \n",
    "x = int(input(\"Enter Your First Number \"))\n",
    "y = int(input(\"Enter Your Secend Number \")) \n",
    "#call function add with 2 parameters x and y \n",
    "add(x, y) "
   ]
  },
  {
   "cell_type": "markdown",
   "id": "96000788",
   "metadata": {},
   "source": [
    "# parameter vs argument\n",
    "\n",
    "Two are the same =\"information that passed to the function to be used in operations \n",
    "But their exiest a small different \n",
    "Parameter is exist when declere function \n",
    "Argument is the value passed to the function when it called "
   ]
  },
  {
   "cell_type": "code",
   "execution_count": 6,
   "id": "f5bbb0e6",
   "metadata": {},
   "outputs": [
    {
     "name": "stdout",
     "output_type": "stream",
     "text": [
      "date\n"
     ]
    }
   ],
   "source": [
    "# show difference between argument and parameter\n",
    "def difference(x):\n",
    "    print(x) \n",
    "difference(x = \"date\")\n",
    "#here x is the parameter and \"date\" is the argument"
   ]
  },
  {
   "cell_type": "markdown",
   "id": "8ee227f2",
   "metadata": {},
   "source": [
    "## Return statment\n",
    "In function you can use return statment which mean you will use it leter when call function in another function \n",
    "in the down code we make two functions \n",
    "1: multiply which return multiply of two numbers and not print the result of them just return it \n",
    "2: use_return function in it we use the return statment  from multiply function rather code again or print two statment.\n"
   ]
  },
  {
   "cell_type": "code",
   "execution_count": 15,
   "id": "402104bb",
   "metadata": {
    "scrolled": false
   },
   "outputs": [
    {
     "name": "stdout",
     "output_type": "stream",
     "text": [
      "Enter Your First Number 6\n",
      "Enter Your Secend Number 7\n",
      "The Result Of Multiply 6 and 7 is 42\n"
     ]
    }
   ],
   "source": [
    "\n",
    "def multiply(num1, num2):\n",
    "    return num1 * num2\n",
    "\n",
    "def use_return():\n",
    "    num1 = int(input(\"Enter Your First Number \"))\n",
    "    num2 = int(input(\"Enter Your Secend Number \")) \n",
    "    result = multiply(num1,num2)\n",
    "    print(\"The Result Of Multiply \" +str(num1)+\" and \" +str(num2)+ \" is \" + str(result))\n",
    "use_return()"
   ]
  },
  {
   "cell_type": "markdown",
   "id": "3474aa87",
   "metadata": {},
   "source": [
    "\n",
    "## Types of functions\n",
    "\n",
    "### Built-in functions \n",
    "Functions that are built into Python \n",
    "which mean you can use it just by import as **sum, sqrt, ceil ,floor ,round and  pow**\n",
    "\n",
    "### User-defined functions \n",
    "Functions defined by the users themselves. this is as any function you type and call in python"
   ]
  },
  {
   "cell_type": "code",
   "execution_count": 14,
   "id": "fb1d9e38",
   "metadata": {},
   "outputs": [
    {
     "name": "stdout",
     "output_type": "stream",
     "text": [
      "74\n"
     ]
    }
   ],
   "source": [
    "def call_biltIn_inUserDefiend_function():\n",
    "    listA = [1, 2, 3, 4, 5, 7 ,27 , 25]\n",
    "    print(sum(listA))    \n",
    "call_biltIn_inUserDefiend_function()"
   ]
  }
 ],
 "metadata": {
  "kernelspec": {
   "display_name": "Python 3 (ipykernel)",
   "language": "python",
   "name": "python3"
  },
  "language_info": {
   "codemirror_mode": {
    "name": "ipython",
    "version": 3
   },
   "file_extension": ".py",
   "mimetype": "text/x-python",
   "name": "python",
   "nbconvert_exporter": "python",
   "pygments_lexer": "ipython3",
   "version": "3.9.7"
  }
 },
 "nbformat": 4,
 "nbformat_minor": 5
}
